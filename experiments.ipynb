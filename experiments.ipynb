{
 "cells": [
  {
   "cell_type": "markdown",
   "id": "ff68e043",
   "metadata": {},
   "source": [
    "# Experiment Notebook for Classification with Perceptron and SAMME Adaboost\n",
    "\n",
    "**Key Points:**\n",
    " - We load the MNIST (8x8) digits dataset via `sklearn.load_digits`.\n",
    " - We flatten each 8x8 image to a length-64 feature vector.\n",
    " - We one-hot encode the targets for clarity, although the perceptron in \"perceptron.py\" might only need integer labels.\n",
    " - We split data into train, validation, and test sets.\n",
    " - We create a \"factory\" function to build a multi-class Perceptron (our \"weak learner\").\n",
    " - We wrap the Perceptron with a SAMME (multi-class AdaBoost) loop, so each round re-fits a new Perceptron focusing on misclassified examples."
   ]
  },
  {
   "cell_type": "code",
   "execution_count": 1,
   "id": "3b0b20b3",
   "metadata": {
    "executionInfo": {}
   },
   "outputs": [],
   "source": [
    "from perceptron import Perceptron\n",
    "from SAAME_adaboost import SAMME_Adaboost  \n",
    "import matplotlib.pyplot as plt\n",
    "from sklearn.datasets import load_digits\n",
    "import numpy as np\n",
    "from sklearn.metrics import accuracy_score\n",
    "from sklearn.model_selection import train_test_split\n",
    "from sklearn.metrics import f1_score, confusion_matrix, ConfusionMatrixDisplay\n",
    "import random, math"
   ]
  },
  {
   "cell_type": "markdown",
   "id": "4550c1d3",
   "metadata": {},
   "source": [
    "## 1. Load the Digits Dataset\n",
    "The digits dataset has 1797 samples of handwritten digits 0-9.\n",
    "Each is an 8x8 image, which we'll flatten into a 64-length vector."
   ]
  },
  {
   "cell_type": "code",
   "execution_count": 2,
   "id": "81b486a5",
   "metadata": {
    "executionInfo": {}
   },
   "outputs": [
    {
     "name": "stdout",
     "output_type": "stream",
     "text": [
      "Original shape of X (images): (1797, 8, 8)\n",
      "Shape of y (labels): (1797,)\n",
      "Digit classes: [0 1 2 3 4 5 6 7 8 9]\n"
     ]
    }
   ],
   "source": [
    "digits = load_digits()\n",
    "X = digits.images  # Shape (1797, 8, 8)\n",
    "y = digits.target  # Shape (1797,)\n",
    "\n",
    "print(\"Original shape of X (images):\",\n",
    "       X.shape)\n",
    "print(\"Shape of y (labels):\", y.shape)\n",
    "print(\"Digit classes:\", np.unique(y))"
   ]
  },
  {
   "cell_type": "markdown",
   "id": "252620ea",
   "metadata": {},
   "source": [
    "**Flatten** the (8,8) into a 64-D feature:"
   ]
  },
  {
   "cell_type": "code",
   "execution_count": 3,
   "id": "df6eeddc",
   "metadata": {
    "executionInfo": {}
   },
   "outputs": [
    {
     "name": "stdout",
     "output_type": "stream",
     "text": [
      "Reshaped X for perceptron input: (1797, 64)\n"
     ]
    }
   ],
   "source": [
    "N, H, W = X.shape\n",
    "X = X.reshape(N, H*W)  # Now X is shape (1797, 64)\n",
    "print(\"Reshaped X for perceptron input:\", X.shape)"
   ]
  },
  {
   "cell_type": "markdown",
   "id": "0d128895",
   "metadata": {},
   "source": [
    "## 2. Train / Validation / Test Split\n",
    "We do:\n",
    "- ~70% total for train\n",
    "- ~15% for validation\n",
    "- ~15% for final test\n",
    "\n"
   ]
  },
  {
   "cell_type": "code",
   "execution_count": 4,
   "id": "aac196cc",
   "metadata": {
    "executionInfo": {}
   },
   "outputs": [
    {
     "name": "stdout",
     "output_type": "stream",
     "text": [
      "Total samples: 1797\n",
      "Training set size: 1257 (69.95%)\n",
      "Validation set size: 270 (15.03%)\n",
      "Test set size: 270 (15.03%)\n"
     ]
    }
   ],
   "source": [
    "\n",
    "total_samples = X.shape[0]\n",
    "test_size = 0.15  # fraction of total data for  test set\n",
    "val_size = 0.15   # fraction of total data for  validation set\n",
    "\n",
    "# Remaining fraction for training\n",
    "train_size = 1 - (test_size + val_size)  \n",
    "\n",
    "# first split\n",
    "X_train_val, X_test, y_train_val, y_test = train_test_split(\n",
    "    X, y, test_size=test_size, random_state=42, stratify=y\n",
    ")\n",
    "\n",
    "# second split: spliting training-validation set into training and validation\n",
    "relative_val_size = val_size / (train_size + val_size)\n",
    "X_train, X_val, y_train, y_val = train_test_split(\n",
    "    X_train_val, y_train_val, test_size=relative_val_size, random_state=42, stratify=y_train_val\n",
    ")\n",
    "\n",
    "print(f\"Total samples: {total_samples}\")\n",
    "print(f\"Training set size: {X_train.shape[0]} ({(X_train.shape[0] / total_samples):.2%})\")\n",
    "print(f\"Validation set size: {X_val.shape[0]} ({(X_val.shape[0] / total_samples):.2%})\")\n",
    "print(f\"Test set size: {X_test.shape[0]} ({(X_test.shape[0] / total_samples):.2%})\")\n"
   ]
  },
  {
   "cell_type": "markdown",
   "id": "8cb56a1d",
   "metadata": {},
   "source": [
    "## 3. Perceptron Factory & SAMME Setup\n",
    "We define a small \"factory\" function that returns a fresh Perceptron instance.\n",
    "Then we pass that to our SAMME_Adaboost as the base learner.\n",
    "\n"
   ]
  },
  {
   "cell_type": "code",
   "execution_count": 5,
   "id": "527c60ef",
   "metadata": {
    "executionInfo": {}
   },
   "outputs": [],
   "source": [
    "def perceptron_factory():\n",
    "    return Perceptron(\n",
    "        n_features=64,\n",
    "        eta=0.01,      \n",
    "        max_iter=5)  "
   ]
  },
  {
   "cell_type": "markdown",
   "id": "5ac8349f",
   "metadata": {},
   "source": [
    "### 3.2 Instantiate SAMME Adaboost\n",
    "\n",
    "1. Trains a new Perceptron on a reweighted data points.\n",
    "2. Measures the weighted error.\n",
    "3. Updates weights & re-normalizes them."
   ]
  },
  {
   "cell_type": "code",
   "execution_count": 6,
   "id": "4adf2cbc",
   "metadata": {
    "executionInfo": {}
   },
   "outputs": [],
   "source": [
    "model = SAMME_Adaboost(\n",
    "    n_rounds=500, \n",
    "    base_learner_factory=perceptron_factory,\n",
    "    n_classes=10\n",
    ")\n"
   ]
  },
  {
   "cell_type": "markdown",
   "id": "245d6253",
   "metadata": {},
   "source": [
    "**Note**: If you had a validation set, you might pass it in for monitoring or early stopping.\n",
    "Our `fit` method might allow `(X_val, y_val)` as optional arguments to track validation metrics.\n",
    "That depends on how your `SAMME_Adaboost` is coded internally."
   ]
  },
  {
   "cell_type": "code",
   "execution_count": 7,
   "id": "1f330c41",
   "metadata": {
    "executionInfo": {}
   },
   "outputs": [
    {
     "name": "stdout",
     "output_type": "stream",
     "text": [
      "Round 1: Weighted Train Err=0.2156, Train Acc=0.7844, Val Err=0.1667, Val Acc=0.8333\n",
      "Round 2: Weighted Train Err=0.0827, Train Acc=0.8560, Val Err=0.1926, Val Acc=0.8074\n",
      "Round 3: Weighted Train Err=0.3531, Train Acc=0.8862, Val Err=0.1370, Val Acc=0.8630\n",
      "Round 4: Weighted Train Err=0.1142, Train Acc=0.9244, Val Err=0.1259, Val Acc=0.8741\n",
      "Round 5: Weighted Train Err=0.3928, Train Acc=0.9196, Val Err=0.1148, Val Acc=0.8852\n",
      "Round 6: Weighted Train Err=0.2807, Train Acc=0.9300, Val Err=0.1259, Val Acc=0.8741\n",
      "Round 7: Weighted Train Err=0.4812, Train Acc=0.9372, Val Err=0.1037, Val Acc=0.8963\n",
      "Round 8: Weighted Train Err=0.3148, Train Acc=0.9467, Val Err=0.1259, Val Acc=0.8741\n",
      "Round 9: Weighted Train Err=0.3136, Train Acc=0.9387, Val Err=0.1222, Val Acc=0.8778\n",
      "Round 10: Weighted Train Err=0.3259, Train Acc=0.9539, Val Err=0.1185, Val Acc=0.8815\n",
      "Round 11: Weighted Train Err=0.4977, Train Acc=0.9562, Val Err=0.1222, Val Acc=0.8778\n",
      "Round 12: Weighted Train Err=0.2364, Train Acc=0.9570, Val Err=0.1296, Val Acc=0.8704\n",
      "Round 13: Weighted Train Err=0.3975, Train Acc=0.9531, Val Err=0.1185, Val Acc=0.8815\n",
      "Round 14: Weighted Train Err=0.2892, Train Acc=0.9531, Val Err=0.1037, Val Acc=0.8963\n",
      "Round 15: Weighted Train Err=0.2956, Train Acc=0.9523, Val Err=0.1111, Val Acc=0.8889\n",
      "Round 16: Weighted Train Err=0.6927, Train Acc=0.9499, Val Err=0.1111, Val Acc=0.8889\n",
      "Round 17: Weighted Train Err=0.3325, Train Acc=0.9578, Val Err=0.1037, Val Acc=0.8963\n",
      "Round 18: Weighted Train Err=0.3271, Train Acc=0.9554, Val Err=0.1148, Val Acc=0.8852\n",
      "Round 19: Weighted Train Err=0.4791, Train Acc=0.9570, Val Err=0.1148, Val Acc=0.8852\n",
      "Round 20: Weighted Train Err=0.7201, Train Acc=0.9578, Val Err=0.1037, Val Acc=0.8963\n",
      "Round 21: Weighted Train Err=0.4233, Train Acc=0.9554, Val Err=0.1037, Val Acc=0.8963\n",
      "Round 22: Weighted Train Err=0.3670, Train Acc=0.9562, Val Err=0.1111, Val Acc=0.8889\n",
      "Round 23: Weighted Train Err=0.1927, Train Acc=0.9602, Val Err=0.1000, Val Acc=0.9000\n",
      "Round 24: Weighted Train Err=0.2595, Train Acc=0.9602, Val Err=0.1148, Val Acc=0.8852\n",
      "Round 25: Weighted Train Err=0.5307, Train Acc=0.9610, Val Err=0.1222, Val Acc=0.8778\n",
      "Round 26: Weighted Train Err=0.3775, Train Acc=0.9658, Val Err=0.1185, Val Acc=0.8815\n",
      "Round 27: Weighted Train Err=0.4646, Train Acc=0.9578, Val Err=0.1296, Val Acc=0.8704\n",
      "Round 28: Weighted Train Err=0.4039, Train Acc=0.9658, Val Err=0.1296, Val Acc=0.8704\n",
      "Round 29: Weighted Train Err=0.5914, Train Acc=0.9562, Val Err=0.1259, Val Acc=0.8741\n",
      "Round 30: Weighted Train Err=0.2642, Train Acc=0.9666, Val Err=0.1074, Val Acc=0.8926\n",
      "Round 31: Weighted Train Err=0.4292, Train Acc=0.9602, Val Err=0.1148, Val Acc=0.8852\n",
      "Round 32: Weighted Train Err=0.5209, Train Acc=0.9618, Val Err=0.1185, Val Acc=0.8815\n",
      "Round 33: Weighted Train Err=0.2769, Train Acc=0.9666, Val Err=0.1111, Val Acc=0.8889\n",
      "Round 34: Weighted Train Err=0.4706, Train Acc=0.9674, Val Err=0.1074, Val Acc=0.8926\n",
      "Round 35: Weighted Train Err=0.3335, Train Acc=0.9674, Val Err=0.1074, Val Acc=0.8926\n",
      "Round 36: Weighted Train Err=0.3966, Train Acc=0.9682, Val Err=0.1074, Val Acc=0.8926\n",
      "Round 37: Weighted Train Err=0.4028, Train Acc=0.9698, Val Err=0.1111, Val Acc=0.8889\n",
      "Round 38: Weighted Train Err=0.2598, Train Acc=0.9714, Val Err=0.0963, Val Acc=0.9037\n",
      "Round 39: Weighted Train Err=0.3892, Train Acc=0.9666, Val Err=0.0963, Val Acc=0.9037\n",
      "Round 40: Weighted Train Err=0.6026, Train Acc=0.9674, Val Err=0.0926, Val Acc=0.9074\n",
      "Round 41: Weighted Train Err=0.2443, Train Acc=0.9674, Val Err=0.0963, Val Acc=0.9037\n",
      "Round 42: Weighted Train Err=0.2987, Train Acc=0.9698, Val Err=0.1000, Val Acc=0.9000\n",
      "Round 43: Weighted Train Err=0.3786, Train Acc=0.9690, Val Err=0.0926, Val Acc=0.9074\n",
      "Round 44: Weighted Train Err=0.3787, Train Acc=0.9714, Val Err=0.0963, Val Acc=0.9037\n",
      "Round 45: Weighted Train Err=0.2349, Train Acc=0.9753, Val Err=0.0963, Val Acc=0.9037\n",
      "Round 46: Weighted Train Err=0.3549, Train Acc=0.9761, Val Err=0.0852, Val Acc=0.9148\n",
      "Round 47: Weighted Train Err=0.2852, Train Acc=0.9753, Val Err=0.0926, Val Acc=0.9074\n",
      "Round 48: Weighted Train Err=0.3495, Train Acc=0.9753, Val Err=0.0815, Val Acc=0.9185\n",
      "Round 49: Weighted Train Err=0.2995, Train Acc=0.9730, Val Err=0.0852, Val Acc=0.9148\n",
      "Round 50: Weighted Train Err=0.2666, Train Acc=0.9745, Val Err=0.0852, Val Acc=0.9148\n",
      "Round 51: Weighted Train Err=0.3291, Train Acc=0.9769, Val Err=0.0852, Val Acc=0.9148\n",
      "Round 52: Weighted Train Err=0.2573, Train Acc=0.9769, Val Err=0.0889, Val Acc=0.9111\n",
      "Round 53: Weighted Train Err=0.5507, Train Acc=0.9761, Val Err=0.0889, Val Acc=0.9111\n",
      "Round 54: Weighted Train Err=0.2147, Train Acc=0.9674, Val Err=0.0889, Val Acc=0.9111\n",
      "Round 55: Weighted Train Err=0.4244, Train Acc=0.9714, Val Err=0.0889, Val Acc=0.9111\n",
      "Round 56: Weighted Train Err=0.3519, Train Acc=0.9658, Val Err=0.0852, Val Acc=0.9148\n",
      "Round 57: Weighted Train Err=0.3470, Train Acc=0.9722, Val Err=0.0926, Val Acc=0.9074\n",
      "Round 58: Weighted Train Err=0.3133, Train Acc=0.9698, Val Err=0.0889, Val Acc=0.9111\n",
      "Round 59: Weighted Train Err=0.3397, Train Acc=0.9698, Val Err=0.0852, Val Acc=0.9148\n",
      "Round 60: Weighted Train Err=0.3396, Train Acc=0.9706, Val Err=0.0852, Val Acc=0.9148\n",
      "Round 61: Weighted Train Err=0.4773, Train Acc=0.9730, Val Err=0.0852, Val Acc=0.9148\n",
      "Round 62: Weighted Train Err=0.3611, Train Acc=0.9698, Val Err=0.0852, Val Acc=0.9148\n",
      "Round 63: Weighted Train Err=0.2296, Train Acc=0.9682, Val Err=0.0778, Val Acc=0.9222\n",
      "Round 64: Weighted Train Err=0.5438, Train Acc=0.9698, Val Err=0.0741, Val Acc=0.9259\n",
      "Round 65: Weighted Train Err=0.3481, Train Acc=0.9722, Val Err=0.0778, Val Acc=0.9222\n",
      "Round 66: Weighted Train Err=0.2576, Train Acc=0.9642, Val Err=0.0815, Val Acc=0.9185\n",
      "Round 67: Weighted Train Err=0.4512, Train Acc=0.9650, Val Err=0.0815, Val Acc=0.9185\n",
      "Round 68: Weighted Train Err=0.2440, Train Acc=0.9714, Val Err=0.0778, Val Acc=0.9222\n",
      "Round 69: Weighted Train Err=0.4116, Train Acc=0.9706, Val Err=0.0778, Val Acc=0.9222\n",
      "Round 70: Weighted Train Err=0.4528, Train Acc=0.9737, Val Err=0.0778, Val Acc=0.9222\n",
      "Round 71: Weighted Train Err=0.3189, Train Acc=0.9690, Val Err=0.0778, Val Acc=0.9222\n",
      "Round 72: Weighted Train Err=0.2573, Train Acc=0.9682, Val Err=0.0778, Val Acc=0.9222\n",
      "Round 73: Weighted Train Err=0.3108, Train Acc=0.9730, Val Err=0.0741, Val Acc=0.9259\n",
      "Round 74: Weighted Train Err=0.3759, Train Acc=0.9761, Val Err=0.0704, Val Acc=0.9296\n",
      "Round 75: Weighted Train Err=0.2712, Train Acc=0.9698, Val Err=0.0741, Val Acc=0.9259\n",
      "Round 76: Weighted Train Err=0.2843, Train Acc=0.9753, Val Err=0.0741, Val Acc=0.9259\n",
      "Round 77: Weighted Train Err=0.4065, Train Acc=0.9698, Val Err=0.0741, Val Acc=0.9259\n",
      "Round 78: Weighted Train Err=0.3138, Train Acc=0.9714, Val Err=0.0741, Val Acc=0.9259\n",
      "Round 79: Weighted Train Err=0.4780, Train Acc=0.9730, Val Err=0.0741, Val Acc=0.9259\n",
      "Round 80: Weighted Train Err=0.4252, Train Acc=0.9722, Val Err=0.0741, Val Acc=0.9259\n",
      "Round 81: Weighted Train Err=0.3968, Train Acc=0.9714, Val Err=0.0741, Val Acc=0.9259\n",
      "Round 82: Weighted Train Err=0.2957, Train Acc=0.9714, Val Err=0.0741, Val Acc=0.9259\n",
      "Round 83: Weighted Train Err=0.2191, Train Acc=0.9730, Val Err=0.0741, Val Acc=0.9259\n",
      "Round 84: Weighted Train Err=0.3383, Train Acc=0.9722, Val Err=0.0741, Val Acc=0.9259\n",
      "Round 85: Weighted Train Err=0.2814, Train Acc=0.9753, Val Err=0.0704, Val Acc=0.9296\n",
      "Round 86: Weighted Train Err=0.3628, Train Acc=0.9714, Val Err=0.0741, Val Acc=0.9259\n",
      "Round 87: Weighted Train Err=0.2267, Train Acc=0.9761, Val Err=0.0704, Val Acc=0.9296\n",
      "Round 88: Weighted Train Err=0.5718, Train Acc=0.9737, Val Err=0.0704, Val Acc=0.9296\n",
      "Round 89: Weighted Train Err=0.3730, Train Acc=0.9745, Val Err=0.0704, Val Acc=0.9296\n",
      "Round 90: Weighted Train Err=0.4124, Train Acc=0.9737, Val Err=0.0667, Val Acc=0.9333\n",
      "Round 91: Weighted Train Err=0.3628, Train Acc=0.9745, Val Err=0.0667, Val Acc=0.9333\n",
      "Round 92: Weighted Train Err=0.2678, Train Acc=0.9722, Val Err=0.0704, Val Acc=0.9296\n",
      "Round 93: Weighted Train Err=0.2430, Train Acc=0.9730, Val Err=0.0741, Val Acc=0.9259\n",
      "Round 94: Weighted Train Err=0.4632, Train Acc=0.9745, Val Err=0.0667, Val Acc=0.9333\n",
      "Round 95: Weighted Train Err=0.3769, Train Acc=0.9714, Val Err=0.0667, Val Acc=0.9333\n",
      "Round 96: Weighted Train Err=0.2281, Train Acc=0.9722, Val Err=0.0741, Val Acc=0.9259\n",
      "Round 97: Weighted Train Err=0.2566, Train Acc=0.9722, Val Err=0.0741, Val Acc=0.9259\n",
      "Round 98: Weighted Train Err=0.2365, Train Acc=0.9730, Val Err=0.0667, Val Acc=0.9333\n",
      "Round 99: Weighted Train Err=0.2653, Train Acc=0.9730, Val Err=0.0593, Val Acc=0.9407\n",
      "Round 100: Weighted Train Err=0.3536, Train Acc=0.9745, Val Err=0.0667, Val Acc=0.9333\n",
      "Round 101: Weighted Train Err=0.3403, Train Acc=0.9745, Val Err=0.0667, Val Acc=0.9333\n",
      "Round 102: Weighted Train Err=0.3320, Train Acc=0.9745, Val Err=0.0778, Val Acc=0.9222\n",
      "Round 103: Weighted Train Err=0.3275, Train Acc=0.9761, Val Err=0.0778, Val Acc=0.9222\n",
      "Round 104: Weighted Train Err=0.3189, Train Acc=0.9769, Val Err=0.0741, Val Acc=0.9259\n",
      "Round 105: Weighted Train Err=0.1715, Train Acc=0.9777, Val Err=0.0704, Val Acc=0.9296\n",
      "Round 106: Weighted Train Err=0.5042, Train Acc=0.9761, Val Err=0.0704, Val Acc=0.9296\n",
      "Round 107: Weighted Train Err=0.6226, Train Acc=0.9769, Val Err=0.0667, Val Acc=0.9333\n",
      "Round 108: Weighted Train Err=0.3008, Train Acc=0.9769, Val Err=0.0704, Val Acc=0.9296\n",
      "Round 109: Weighted Train Err=0.1965, Train Acc=0.9785, Val Err=0.0556, Val Acc=0.9444\n",
      "Round 110: Weighted Train Err=0.3250, Train Acc=0.9785, Val Err=0.0630, Val Acc=0.9370\n",
      "Round 111: Weighted Train Err=0.3563, Train Acc=0.9785, Val Err=0.0704, Val Acc=0.9296\n",
      "Round 112: Weighted Train Err=0.3844, Train Acc=0.9761, Val Err=0.0741, Val Acc=0.9259\n",
      "Round 113: Weighted Train Err=0.2763, Train Acc=0.9769, Val Err=0.0667, Val Acc=0.9333\n",
      "Round 114: Weighted Train Err=0.7152, Train Acc=0.9761, Val Err=0.0667, Val Acc=0.9333\n",
      "Round 115: Weighted Train Err=0.3173, Train Acc=0.9761, Val Err=0.0667, Val Acc=0.9333\n",
      "Round 116: Weighted Train Err=0.2985, Train Acc=0.9769, Val Err=0.0630, Val Acc=0.9370\n",
      "Round 117: Weighted Train Err=0.4200, Train Acc=0.9777, Val Err=0.0741, Val Acc=0.9259\n",
      "Round 118: Weighted Train Err=0.3347, Train Acc=0.9737, Val Err=0.0704, Val Acc=0.9296\n",
      "Round 119: Weighted Train Err=0.3168, Train Acc=0.9769, Val Err=0.0630, Val Acc=0.9370\n",
      "Round 120: Weighted Train Err=0.4743, Train Acc=0.9761, Val Err=0.0667, Val Acc=0.9333\n",
      "Round 121: Weighted Train Err=0.3728, Train Acc=0.9793, Val Err=0.0704, Val Acc=0.9296\n",
      "Round 122: Weighted Train Err=0.4794, Train Acc=0.9793, Val Err=0.0704, Val Acc=0.9296\n",
      "Round 123: Weighted Train Err=0.2680, Train Acc=0.9777, Val Err=0.0704, Val Acc=0.9296\n",
      "Round 124: Weighted Train Err=0.2827, Train Acc=0.9769, Val Err=0.0704, Val Acc=0.9296\n",
      "Round 125: Weighted Train Err=0.1991, Train Acc=0.9777, Val Err=0.0741, Val Acc=0.9259\n",
      "Round 126: Weighted Train Err=0.3780, Train Acc=0.9785, Val Err=0.0704, Val Acc=0.9296\n",
      "Round 127: Weighted Train Err=0.2573, Train Acc=0.9753, Val Err=0.0741, Val Acc=0.9259\n",
      "Round 128: Weighted Train Err=0.5581, Train Acc=0.9753, Val Err=0.0741, Val Acc=0.9259\n",
      "Round 129: Weighted Train Err=0.3595, Train Acc=0.9777, Val Err=0.0741, Val Acc=0.9259\n",
      "Round 130: Weighted Train Err=0.2382, Train Acc=0.9761, Val Err=0.0667, Val Acc=0.9333\n",
      "Round 131: Weighted Train Err=0.1308, Train Acc=0.9777, Val Err=0.0741, Val Acc=0.9259\n",
      "Round 132: Weighted Train Err=0.1654, Train Acc=0.9777, Val Err=0.0741, Val Acc=0.9259\n",
      "Round 133: Weighted Train Err=0.4365, Train Acc=0.9793, Val Err=0.0704, Val Acc=0.9296\n",
      "Round 134: Weighted Train Err=0.3260, Train Acc=0.9793, Val Err=0.0667, Val Acc=0.9333\n",
      "Round 135: Weighted Train Err=0.3606, Train Acc=0.9793, Val Err=0.0704, Val Acc=0.9296\n",
      "Round 136: Weighted Train Err=0.3777, Train Acc=0.9809, Val Err=0.0667, Val Acc=0.9333\n",
      "Round 137: Weighted Train Err=0.4222, Train Acc=0.9793, Val Err=0.0704, Val Acc=0.9296\n",
      "Round 138: Weighted Train Err=0.3434, Train Acc=0.9801, Val Err=0.0704, Val Acc=0.9296\n",
      "Round 139: Weighted Train Err=0.2160, Train Acc=0.9801, Val Err=0.0741, Val Acc=0.9259\n",
      "Round 140: Weighted Train Err=0.2150, Train Acc=0.9801, Val Err=0.0704, Val Acc=0.9296\n",
      "Round 141: Weighted Train Err=0.3421, Train Acc=0.9809, Val Err=0.0704, Val Acc=0.9296\n",
      "Round 142: Weighted Train Err=0.3047, Train Acc=0.9793, Val Err=0.0704, Val Acc=0.9296\n",
      "Round 143: Weighted Train Err=0.5198, Train Acc=0.9793, Val Err=0.0704, Val Acc=0.9296\n",
      "Round 144: Weighted Train Err=0.4104, Train Acc=0.9801, Val Err=0.0704, Val Acc=0.9296\n",
      "Round 145: Weighted Train Err=0.3700, Train Acc=0.9809, Val Err=0.0667, Val Acc=0.9333\n",
      "Round 146: Weighted Train Err=0.3730, Train Acc=0.9801, Val Err=0.0630, Val Acc=0.9370\n",
      "Round 147: Weighted Train Err=0.4714, Train Acc=0.9809, Val Err=0.0630, Val Acc=0.9370\n",
      "Round 148: Weighted Train Err=0.3809, Train Acc=0.9785, Val Err=0.0630, Val Acc=0.9370\n",
      "Round 149: Weighted Train Err=0.5331, Train Acc=0.9809, Val Err=0.0593, Val Acc=0.9407\n",
      "Round 150: Weighted Train Err=0.3977, Train Acc=0.9817, Val Err=0.0630, Val Acc=0.9370\n",
      "Round 151: Weighted Train Err=0.4063, Train Acc=0.9801, Val Err=0.0630, Val Acc=0.9370\n",
      "Round 152: Weighted Train Err=0.4595, Train Acc=0.9801, Val Err=0.0593, Val Acc=0.9407\n",
      "Round 153: Weighted Train Err=0.5755, Train Acc=0.9801, Val Err=0.0593, Val Acc=0.9407\n",
      "Round 154: Weighted Train Err=0.3526, Train Acc=0.9801, Val Err=0.0630, Val Acc=0.9370\n",
      "Round 155: Weighted Train Err=0.3080, Train Acc=0.9801, Val Err=0.0667, Val Acc=0.9333\n",
      "Round 156: Weighted Train Err=0.4222, Train Acc=0.9785, Val Err=0.0630, Val Acc=0.9370\n",
      "Round 157: Weighted Train Err=0.2752, Train Acc=0.9793, Val Err=0.0704, Val Acc=0.9296\n",
      "Round 158: Weighted Train Err=0.4260, Train Acc=0.9793, Val Err=0.0667, Val Acc=0.9333\n",
      "Round 159: Weighted Train Err=0.3360, Train Acc=0.9793, Val Err=0.0704, Val Acc=0.9296\n",
      "Round 160: Weighted Train Err=0.2609, Train Acc=0.9809, Val Err=0.0704, Val Acc=0.9296\n",
      "Round 161: Weighted Train Err=0.5148, Train Acc=0.9801, Val Err=0.0667, Val Acc=0.9333\n",
      "Round 162: Weighted Train Err=0.4228, Train Acc=0.9801, Val Err=0.0704, Val Acc=0.9296\n",
      "Round 163: Weighted Train Err=0.4654, Train Acc=0.9809, Val Err=0.0667, Val Acc=0.9333\n",
      "Round 164: Weighted Train Err=0.3958, Train Acc=0.9809, Val Err=0.0667, Val Acc=0.9333\n",
      "Round 165: Weighted Train Err=0.4933, Train Acc=0.9817, Val Err=0.0667, Val Acc=0.9333\n",
      "Round 166: Weighted Train Err=0.3220, Train Acc=0.9801, Val Err=0.0667, Val Acc=0.9333\n",
      "Round 167: Weighted Train Err=0.3596, Train Acc=0.9801, Val Err=0.0704, Val Acc=0.9296\n",
      "Round 168: Weighted Train Err=0.2056, Train Acc=0.9769, Val Err=0.0630, Val Acc=0.9370\n",
      "Round 169: Weighted Train Err=0.2208, Train Acc=0.9777, Val Err=0.0630, Val Acc=0.9370\n",
      "Round 170: Weighted Train Err=0.2739, Train Acc=0.9769, Val Err=0.0593, Val Acc=0.9407\n",
      "Round 171: Weighted Train Err=0.4158, Train Acc=0.9777, Val Err=0.0593, Val Acc=0.9407\n",
      "Round 172: Weighted Train Err=0.1951, Train Acc=0.9745, Val Err=0.0556, Val Acc=0.9444\n",
      "Round 173: Weighted Train Err=0.2308, Train Acc=0.9769, Val Err=0.0667, Val Acc=0.9333\n",
      "Round 174: Weighted Train Err=0.3156, Train Acc=0.9769, Val Err=0.0667, Val Acc=0.9333\n",
      "Round 175: Weighted Train Err=0.4249, Train Acc=0.9761, Val Err=0.0667, Val Acc=0.9333\n",
      "Round 176: Weighted Train Err=0.3514, Train Acc=0.9769, Val Err=0.0667, Val Acc=0.9333\n",
      "Round 177: Weighted Train Err=0.2083, Train Acc=0.9769, Val Err=0.0667, Val Acc=0.9333\n",
      "Round 178: Weighted Train Err=0.6519, Train Acc=0.9761, Val Err=0.0667, Val Acc=0.9333\n",
      "Round 179: Weighted Train Err=0.3038, Train Acc=0.9753, Val Err=0.0704, Val Acc=0.9296\n",
      "Round 180: Weighted Train Err=0.4067, Train Acc=0.9761, Val Err=0.0667, Val Acc=0.9333\n",
      "Round 181: Weighted Train Err=0.1692, Train Acc=0.9769, Val Err=0.0741, Val Acc=0.9259\n",
      "Round 182: Weighted Train Err=0.2714, Train Acc=0.9777, Val Err=0.0667, Val Acc=0.9333\n",
      "Round 183: Weighted Train Err=0.4417, Train Acc=0.9785, Val Err=0.0630, Val Acc=0.9370\n",
      "Round 184: Weighted Train Err=0.6344, Train Acc=0.9769, Val Err=0.0667, Val Acc=0.9333\n",
      "Round 185: Weighted Train Err=0.2390, Train Acc=0.9761, Val Err=0.0704, Val Acc=0.9296\n",
      "Round 186: Weighted Train Err=0.4056, Train Acc=0.9761, Val Err=0.0667, Val Acc=0.9333\n",
      "Round 187: Weighted Train Err=0.1667, Train Acc=0.9777, Val Err=0.0630, Val Acc=0.9370\n",
      "Round 188: Weighted Train Err=0.2728, Train Acc=0.9769, Val Err=0.0667, Val Acc=0.9333\n",
      "Round 189: Weighted Train Err=0.2636, Train Acc=0.9785, Val Err=0.0630, Val Acc=0.9370\n",
      "Round 190: Weighted Train Err=0.4846, Train Acc=0.9785, Val Err=0.0630, Val Acc=0.9370\n",
      "Round 191: Weighted Train Err=0.5218, Train Acc=0.9785, Val Err=0.0630, Val Acc=0.9370\n",
      "Round 192: Weighted Train Err=0.4594, Train Acc=0.9793, Val Err=0.0630, Val Acc=0.9370\n",
      "Round 193: Weighted Train Err=0.3489, Train Acc=0.9777, Val Err=0.0667, Val Acc=0.9333\n",
      "Round 194: Weighted Train Err=0.4625, Train Acc=0.9777, Val Err=0.0667, Val Acc=0.9333\n",
      "Round 195: Weighted Train Err=0.4576, Train Acc=0.9761, Val Err=0.0667, Val Acc=0.9333\n",
      "Round 196: Weighted Train Err=0.5227, Train Acc=0.9769, Val Err=0.0667, Val Acc=0.9333\n",
      "Round 197: Weighted Train Err=0.6152, Train Acc=0.9769, Val Err=0.0667, Val Acc=0.9333\n",
      "Round 198: Weighted Train Err=0.2975, Train Acc=0.9769, Val Err=0.0667, Val Acc=0.9333\n",
      "Round 199: Weighted Train Err=0.3594, Train Acc=0.9761, Val Err=0.0667, Val Acc=0.9333\n",
      "Round 200: Weighted Train Err=0.3314, Train Acc=0.9777, Val Err=0.0630, Val Acc=0.9370\n",
      "Round 201: Weighted Train Err=0.6117, Train Acc=0.9777, Val Err=0.0630, Val Acc=0.9370\n",
      "Round 202: Weighted Train Err=0.3820, Train Acc=0.9777, Val Err=0.0667, Val Acc=0.9333\n",
      "Round 203: Weighted Train Err=0.3188, Train Acc=0.9769, Val Err=0.0704, Val Acc=0.9296\n",
      "Round 204: Weighted Train Err=0.2493, Train Acc=0.9777, Val Err=0.0667, Val Acc=0.9333\n",
      "Round 205: Weighted Train Err=0.3609, Train Acc=0.9769, Val Err=0.0630, Val Acc=0.9370\n",
      "Round 206: Weighted Train Err=0.3392, Train Acc=0.9777, Val Err=0.0593, Val Acc=0.9407\n",
      "Round 207: Weighted Train Err=0.5246, Train Acc=0.9777, Val Err=0.0630, Val Acc=0.9370\n",
      "Round 208: Weighted Train Err=0.2589, Train Acc=0.9753, Val Err=0.0667, Val Acc=0.9333\n",
      "Round 209: Weighted Train Err=0.2991, Train Acc=0.9777, Val Err=0.0667, Val Acc=0.9333\n",
      "Round 210: Weighted Train Err=0.2527, Train Acc=0.9761, Val Err=0.0667, Val Acc=0.9333\n",
      "Round 211: Weighted Train Err=0.2579, Train Acc=0.9793, Val Err=0.0593, Val Acc=0.9407\n",
      "Round 212: Weighted Train Err=0.3971, Train Acc=0.9793, Val Err=0.0593, Val Acc=0.9407\n",
      "Round 213: Weighted Train Err=0.3349, Train Acc=0.9769, Val Err=0.0630, Val Acc=0.9370\n",
      "Round 214: Weighted Train Err=0.3868, Train Acc=0.9753, Val Err=0.0593, Val Acc=0.9407\n",
      "Round 215: Weighted Train Err=0.4121, Train Acc=0.9753, Val Err=0.0630, Val Acc=0.9370\n",
      "Round 216: Weighted Train Err=0.3080, Train Acc=0.9753, Val Err=0.0630, Val Acc=0.9370\n",
      "Round 217: Weighted Train Err=0.4914, Train Acc=0.9753, Val Err=0.0630, Val Acc=0.9370\n",
      "Round 218: Weighted Train Err=0.3694, Train Acc=0.9745, Val Err=0.0630, Val Acc=0.9370\n",
      "Round 219: Weighted Train Err=0.3925, Train Acc=0.9761, Val Err=0.0556, Val Acc=0.9444\n",
      "Round 220: Weighted Train Err=0.4863, Train Acc=0.9761, Val Err=0.0556, Val Acc=0.9444\n",
      "Round 221: Weighted Train Err=0.4764, Train Acc=0.9769, Val Err=0.0556, Val Acc=0.9444\n",
      "Round 222: Weighted Train Err=0.5144, Train Acc=0.9769, Val Err=0.0593, Val Acc=0.9407\n",
      "Round 223: Weighted Train Err=0.4031, Train Acc=0.9761, Val Err=0.0593, Val Acc=0.9407\n",
      "Round 224: Weighted Train Err=0.4866, Train Acc=0.9745, Val Err=0.0593, Val Acc=0.9407\n",
      "Round 225: Weighted Train Err=0.6161, Train Acc=0.9745, Val Err=0.0593, Val Acc=0.9407\n",
      "Round 226: Weighted Train Err=0.4536, Train Acc=0.9745, Val Err=0.0593, Val Acc=0.9407\n",
      "Round 227: Weighted Train Err=0.3486, Train Acc=0.9745, Val Err=0.0593, Val Acc=0.9407\n",
      "Round 228: Weighted Train Err=0.4863, Train Acc=0.9737, Val Err=0.0630, Val Acc=0.9370\n",
      "Round 229: Weighted Train Err=0.4197, Train Acc=0.9761, Val Err=0.0593, Val Acc=0.9407\n",
      "Round 230: Weighted Train Err=0.3575, Train Acc=0.9745, Val Err=0.0593, Val Acc=0.9407\n",
      "Round 231: Weighted Train Err=0.6440, Train Acc=0.9745, Val Err=0.0593, Val Acc=0.9407\n",
      "Round 232: Weighted Train Err=0.3123, Train Acc=0.9753, Val Err=0.0593, Val Acc=0.9407\n",
      "Round 233: Weighted Train Err=0.4908, Train Acc=0.9761, Val Err=0.0630, Val Acc=0.9370\n",
      "Round 234: Weighted Train Err=0.3846, Train Acc=0.9769, Val Err=0.0630, Val Acc=0.9370\n",
      "Round 235: Weighted Train Err=0.5099, Train Acc=0.9761, Val Err=0.0593, Val Acc=0.9407\n",
      "Round 236: Weighted Train Err=0.3233, Train Acc=0.9769, Val Err=0.0630, Val Acc=0.9370\n",
      "Round 237: Weighted Train Err=0.2735, Train Acc=0.9761, Val Err=0.0667, Val Acc=0.9333\n",
      "Round 238: Weighted Train Err=0.3486, Train Acc=0.9761, Val Err=0.0667, Val Acc=0.9333\n",
      "Round 239: Weighted Train Err=0.2235, Train Acc=0.9753, Val Err=0.0667, Val Acc=0.9333\n",
      "Round 240: Weighted Train Err=0.3493, Train Acc=0.9753, Val Err=0.0630, Val Acc=0.9370\n",
      "Round 241: Weighted Train Err=0.3392, Train Acc=0.9753, Val Err=0.0630, Val Acc=0.9370\n",
      "Round 242: Weighted Train Err=0.4682, Train Acc=0.9761, Val Err=0.0667, Val Acc=0.9333\n",
      "Round 243: Weighted Train Err=0.3690, Train Acc=0.9753, Val Err=0.0667, Val Acc=0.9333\n",
      "Round 244: Weighted Train Err=0.3272, Train Acc=0.9753, Val Err=0.0667, Val Acc=0.9333\n",
      "Round 245: Weighted Train Err=0.4689, Train Acc=0.9753, Val Err=0.0667, Val Acc=0.9333\n",
      "Round 246: Weighted Train Err=0.5419, Train Acc=0.9745, Val Err=0.0667, Val Acc=0.9333\n",
      "Round 247: Weighted Train Err=0.3684, Train Acc=0.9753, Val Err=0.0630, Val Acc=0.9370\n",
      "Round 248: Weighted Train Err=0.7151, Train Acc=0.9753, Val Err=0.0630, Val Acc=0.9370\n",
      "Round 249: Weighted Train Err=0.4727, Train Acc=0.9753, Val Err=0.0630, Val Acc=0.9370\n",
      "Round 250: Weighted Train Err=0.5756, Train Acc=0.9761, Val Err=0.0630, Val Acc=0.9370\n",
      "Round 251: Weighted Train Err=0.6091, Train Acc=0.9761, Val Err=0.0630, Val Acc=0.9370\n",
      "Round 252: Weighted Train Err=0.6338, Train Acc=0.9753, Val Err=0.0630, Val Acc=0.9370\n",
      "Round 253: Weighted Train Err=0.6889, Train Acc=0.9761, Val Err=0.0630, Val Acc=0.9370\n",
      "Round 254: Weighted Train Err=0.4778, Train Acc=0.9745, Val Err=0.0630, Val Acc=0.9370\n",
      "Round 255: Weighted Train Err=0.6912, Train Acc=0.9737, Val Err=0.0630, Val Acc=0.9370\n",
      "Round 256: Weighted Train Err=0.4348, Train Acc=0.9737, Val Err=0.0593, Val Acc=0.9407\n",
      "Round 257: Weighted Train Err=0.6111, Train Acc=0.9737, Val Err=0.0630, Val Acc=0.9370\n",
      "Round 258: Weighted Train Err=0.5518, Train Acc=0.9737, Val Err=0.0593, Val Acc=0.9407\n",
      "Round 259: Weighted Train Err=0.2589, Train Acc=0.9745, Val Err=0.0667, Val Acc=0.9333\n",
      "Round 260: Weighted Train Err=0.3097, Train Acc=0.9737, Val Err=0.0667, Val Acc=0.9333\n",
      "Round 261: Weighted Train Err=0.2628, Train Acc=0.9722, Val Err=0.0593, Val Acc=0.9407\n",
      "Round 262: Weighted Train Err=0.5735, Train Acc=0.9730, Val Err=0.0593, Val Acc=0.9407\n",
      "Round 263: Weighted Train Err=0.5180, Train Acc=0.9745, Val Err=0.0630, Val Acc=0.9370\n",
      "Round 264: Weighted Train Err=0.6303, Train Acc=0.9745, Val Err=0.0630, Val Acc=0.9370\n",
      "Round 265: Weighted Train Err=0.5039, Train Acc=0.9722, Val Err=0.0593, Val Acc=0.9407\n",
      "Round 266: Weighted Train Err=0.5279, Train Acc=0.9730, Val Err=0.0593, Val Acc=0.9407\n",
      "Round 267: Weighted Train Err=0.5544, Train Acc=0.9737, Val Err=0.0630, Val Acc=0.9370\n",
      "Round 268: Weighted Train Err=0.8615, Train Acc=0.9737, Val Err=0.0630, Val Acc=0.9370\n",
      "Round 269: Weighted Train Err=0.6365, Train Acc=0.9737, Val Err=0.0593, Val Acc=0.9407\n",
      "Round 270: Weighted Train Err=0.4370, Train Acc=0.9722, Val Err=0.0593, Val Acc=0.9407\n",
      "Round 271: Weighted Train Err=0.6682, Train Acc=0.9714, Val Err=0.0593, Val Acc=0.9407\n",
      "Round 272: Weighted Train Err=0.8168, Train Acc=0.9714, Val Err=0.0593, Val Acc=0.9407\n",
      "Round 273: Weighted Train Err=0.2999, Train Acc=0.9714, Val Err=0.0593, Val Acc=0.9407\n",
      "Round 274: Weighted Train Err=0.4386, Train Acc=0.9722, Val Err=0.0593, Val Acc=0.9407\n",
      "Round 275: Weighted Train Err=0.3435, Train Acc=0.9730, Val Err=0.0630, Val Acc=0.9370\n",
      "Round 276: Weighted Train Err=0.4240, Train Acc=0.9722, Val Err=0.0630, Val Acc=0.9370\n",
      "Round 277: Weighted Train Err=0.3013, Train Acc=0.9730, Val Err=0.0630, Val Acc=0.9370\n",
      "Round 278: Weighted Train Err=0.7496, Train Acc=0.9730, Val Err=0.0630, Val Acc=0.9370\n",
      "Round 279: Weighted Train Err=0.3510, Train Acc=0.9714, Val Err=0.0593, Val Acc=0.9407\n",
      "Round 280: Weighted Train Err=0.4211, Train Acc=0.9714, Val Err=0.0630, Val Acc=0.9370\n",
      "Round 281: Weighted Train Err=0.5543, Train Acc=0.9722, Val Err=0.0630, Val Acc=0.9370\n",
      "Round 282: Weighted Train Err=0.3732, Train Acc=0.9714, Val Err=0.0556, Val Acc=0.9444\n",
      "Round 283: Weighted Train Err=0.4063, Train Acc=0.9706, Val Err=0.0630, Val Acc=0.9370\n",
      "Round 284: Weighted Train Err=0.5504, Train Acc=0.9706, Val Err=0.0630, Val Acc=0.9370\n",
      "Round 285: Weighted Train Err=0.7150, Train Acc=0.9706, Val Err=0.0630, Val Acc=0.9370\n",
      "Round 286: Weighted Train Err=0.4434, Train Acc=0.9698, Val Err=0.0630, Val Acc=0.9370\n",
      "Round 287: Weighted Train Err=0.3186, Train Acc=0.9706, Val Err=0.0630, Val Acc=0.9370\n",
      "Round 288: Weighted Train Err=0.2207, Train Acc=0.9698, Val Err=0.0593, Val Acc=0.9407\n",
      "Round 289: Weighted Train Err=0.2321, Train Acc=0.9706, Val Err=0.0630, Val Acc=0.9370\n",
      "Round 290: Weighted Train Err=0.4545, Train Acc=0.9706, Val Err=0.0630, Val Acc=0.9370\n",
      "Round 291: Weighted Train Err=0.2744, Train Acc=0.9698, Val Err=0.0630, Val Acc=0.9370\n",
      "Round 292: Weighted Train Err=0.3087, Train Acc=0.9698, Val Err=0.0556, Val Acc=0.9444\n",
      "Round 293: Weighted Train Err=0.2771, Train Acc=0.9706, Val Err=0.0667, Val Acc=0.9333\n",
      "Round 294: Weighted Train Err=0.3393, Train Acc=0.9722, Val Err=0.0630, Val Acc=0.9370\n",
      "Round 295: Weighted Train Err=0.3405, Train Acc=0.9706, Val Err=0.0667, Val Acc=0.9333\n",
      "Round 296: Weighted Train Err=0.4759, Train Acc=0.9714, Val Err=0.0667, Val Acc=0.9333\n",
      "Round 297: Weighted Train Err=0.3582, Train Acc=0.9698, Val Err=0.0630, Val Acc=0.9370\n",
      "Round 298: Weighted Train Err=0.3311, Train Acc=0.9690, Val Err=0.0630, Val Acc=0.9370\n",
      "Round 299: Weighted Train Err=0.3917, Train Acc=0.9706, Val Err=0.0630, Val Acc=0.9370\n",
      "Round 300: Weighted Train Err=0.3114, Train Acc=0.9698, Val Err=0.0667, Val Acc=0.9333\n",
      "Round 301: Weighted Train Err=0.2880, Train Acc=0.9698, Val Err=0.0630, Val Acc=0.9370\n",
      "Round 302: Weighted Train Err=0.5893, Train Acc=0.9722, Val Err=0.0704, Val Acc=0.9296\n",
      "Round 303: Weighted Train Err=0.4771, Train Acc=0.9714, Val Err=0.0667, Val Acc=0.9333\n",
      "Round 304: Weighted Train Err=0.3533, Train Acc=0.9706, Val Err=0.0630, Val Acc=0.9370\n",
      "Round 305: Weighted Train Err=0.3943, Train Acc=0.9706, Val Err=0.0704, Val Acc=0.9296\n",
      "Round 306: Weighted Train Err=0.5697, Train Acc=0.9698, Val Err=0.0704, Val Acc=0.9296\n",
      "Round 307: Weighted Train Err=0.3038, Train Acc=0.9714, Val Err=0.0704, Val Acc=0.9296\n",
      "Round 308: Weighted Train Err=0.4679, Train Acc=0.9714, Val Err=0.0704, Val Acc=0.9296\n",
      "Round 309: Weighted Train Err=0.2610, Train Acc=0.9706, Val Err=0.0704, Val Acc=0.9296\n",
      "Round 310: Weighted Train Err=0.5347, Train Acc=0.9690, Val Err=0.0704, Val Acc=0.9296\n",
      "Round 311: Weighted Train Err=0.7393, Train Acc=0.9698, Val Err=0.0704, Val Acc=0.9296\n",
      "Round 312: Weighted Train Err=0.2578, Train Acc=0.9690, Val Err=0.0667, Val Acc=0.9333\n",
      "Round 313: Weighted Train Err=0.4462, Train Acc=0.9690, Val Err=0.0667, Val Acc=0.9333\n",
      "Round 314: Weighted Train Err=0.4991, Train Acc=0.9698, Val Err=0.0667, Val Acc=0.9333\n",
      "Round 315: Weighted Train Err=0.5225, Train Acc=0.9698, Val Err=0.0667, Val Acc=0.9333\n",
      "Round 316: Weighted Train Err=0.4641, Train Acc=0.9690, Val Err=0.0667, Val Acc=0.9333\n",
      "Round 317: Weighted Train Err=0.5481, Train Acc=0.9690, Val Err=0.0667, Val Acc=0.9333\n",
      "Round 318: Weighted Train Err=0.2989, Train Acc=0.9674, Val Err=0.0667, Val Acc=0.9333\n",
      "Round 319: Weighted Train Err=0.3760, Train Acc=0.9690, Val Err=0.0667, Val Acc=0.9333\n",
      "Round 320: Weighted Train Err=0.4610, Train Acc=0.9690, Val Err=0.0667, Val Acc=0.9333\n",
      "Round 321: Weighted Train Err=0.4766, Train Acc=0.9682, Val Err=0.0667, Val Acc=0.9333\n",
      "Round 322: Weighted Train Err=0.4313, Train Acc=0.9682, Val Err=0.0667, Val Acc=0.9333\n",
      "Round 323: Weighted Train Err=0.4942, Train Acc=0.9682, Val Err=0.0667, Val Acc=0.9333\n",
      "Round 324: Weighted Train Err=0.3243, Train Acc=0.9690, Val Err=0.0704, Val Acc=0.9296\n",
      "Round 325: Weighted Train Err=0.4770, Train Acc=0.9682, Val Err=0.0704, Val Acc=0.9296\n",
      "Round 326: Weighted Train Err=0.3783, Train Acc=0.9682, Val Err=0.0704, Val Acc=0.9296\n",
      "Round 327: Weighted Train Err=0.5913, Train Acc=0.9682, Val Err=0.0704, Val Acc=0.9296\n",
      "Round 328: Weighted Train Err=0.6134, Train Acc=0.9682, Val Err=0.0704, Val Acc=0.9296\n",
      "Round 329: Weighted Train Err=0.2926, Train Acc=0.9682, Val Err=0.0704, Val Acc=0.9296\n",
      "Round 330: Weighted Train Err=0.4115, Train Acc=0.9690, Val Err=0.0667, Val Acc=0.9333\n",
      "Round 331: Weighted Train Err=0.2725, Train Acc=0.9682, Val Err=0.0667, Val Acc=0.9333\n",
      "Round 332: Weighted Train Err=0.3774, Train Acc=0.9682, Val Err=0.0667, Val Acc=0.9333\n",
      "Round 333: Weighted Train Err=0.4222, Train Acc=0.9682, Val Err=0.0630, Val Acc=0.9370\n",
      "Round 334: Weighted Train Err=0.4161, Train Acc=0.9682, Val Err=0.0630, Val Acc=0.9370\n",
      "Round 335: Weighted Train Err=0.5135, Train Acc=0.9682, Val Err=0.0630, Val Acc=0.9370\n",
      "Round 336: Weighted Train Err=0.2919, Train Acc=0.9682, Val Err=0.0667, Val Acc=0.9333\n",
      "Round 337: Weighted Train Err=0.3445, Train Acc=0.9682, Val Err=0.0630, Val Acc=0.9370\n",
      "Round 338: Weighted Train Err=0.2509, Train Acc=0.9690, Val Err=0.0630, Val Acc=0.9370\n",
      "Round 339: Weighted Train Err=0.4565, Train Acc=0.9690, Val Err=0.0630, Val Acc=0.9370\n",
      "Round 340: Weighted Train Err=0.4203, Train Acc=0.9690, Val Err=0.0630, Val Acc=0.9370\n",
      "Round 341: Weighted Train Err=0.4150, Train Acc=0.9682, Val Err=0.0667, Val Acc=0.9333\n",
      "Round 342: Weighted Train Err=0.7177, Train Acc=0.9682, Val Err=0.0667, Val Acc=0.9333\n",
      "Round 343: Weighted Train Err=0.4916, Train Acc=0.9682, Val Err=0.0630, Val Acc=0.9370\n",
      "Round 344: Weighted Train Err=0.5281, Train Acc=0.9682, Val Err=0.0667, Val Acc=0.9333\n",
      "Round 345: Weighted Train Err=0.2695, Train Acc=0.9682, Val Err=0.0667, Val Acc=0.9333\n",
      "Round 346: Weighted Train Err=0.3959, Train Acc=0.9682, Val Err=0.0667, Val Acc=0.9333\n",
      "Round 347: Weighted Train Err=0.2590, Train Acc=0.9682, Val Err=0.0667, Val Acc=0.9333\n",
      "Round 348: Weighted Train Err=0.2895, Train Acc=0.9698, Val Err=0.0667, Val Acc=0.9333\n",
      "Round 349: Weighted Train Err=0.4644, Train Acc=0.9690, Val Err=0.0667, Val Acc=0.9333\n",
      "Round 350: Weighted Train Err=0.3346, Train Acc=0.9690, Val Err=0.0630, Val Acc=0.9370\n",
      "Round 351: Weighted Train Err=0.4437, Train Acc=0.9690, Val Err=0.0630, Val Acc=0.9370\n",
      "Round 352: Weighted Train Err=0.4982, Train Acc=0.9690, Val Err=0.0630, Val Acc=0.9370\n",
      "Round 353: Weighted Train Err=0.4915, Train Acc=0.9690, Val Err=0.0630, Val Acc=0.9370\n",
      "Round 354: Weighted Train Err=0.3381, Train Acc=0.9690, Val Err=0.0593, Val Acc=0.9407\n",
      "Round 355: Weighted Train Err=0.3378, Train Acc=0.9682, Val Err=0.0593, Val Acc=0.9407\n",
      "Round 356: Weighted Train Err=0.2067, Train Acc=0.9690, Val Err=0.0593, Val Acc=0.9407\n",
      "Round 357: Weighted Train Err=0.3339, Train Acc=0.9690, Val Err=0.0556, Val Acc=0.9444\n",
      "Round 358: Weighted Train Err=0.3685, Train Acc=0.9698, Val Err=0.0481, Val Acc=0.9519\n",
      "Round 359: Weighted Train Err=0.4931, Train Acc=0.9698, Val Err=0.0519, Val Acc=0.9481\n",
      "Round 360: Weighted Train Err=0.3917, Train Acc=0.9698, Val Err=0.0593, Val Acc=0.9407\n",
      "Round 361: Weighted Train Err=0.5727, Train Acc=0.9698, Val Err=0.0556, Val Acc=0.9444\n",
      "Round 362: Weighted Train Err=0.3647, Train Acc=0.9698, Val Err=0.0556, Val Acc=0.9444\n",
      "Round 363: Weighted Train Err=0.3045, Train Acc=0.9690, Val Err=0.0556, Val Acc=0.9444\n",
      "Round 364: Weighted Train Err=0.5959, Train Acc=0.9690, Val Err=0.0556, Val Acc=0.9444\n",
      "Round 365: Weighted Train Err=0.3266, Train Acc=0.9690, Val Err=0.0556, Val Acc=0.9444\n",
      "Round 366: Weighted Train Err=0.5759, Train Acc=0.9690, Val Err=0.0556, Val Acc=0.9444\n",
      "Round 367: Weighted Train Err=0.4453, Train Acc=0.9690, Val Err=0.0556, Val Acc=0.9444\n",
      "Round 368: Weighted Train Err=0.5189, Train Acc=0.9690, Val Err=0.0556, Val Acc=0.9444\n",
      "Round 369: Weighted Train Err=0.6511, Train Acc=0.9682, Val Err=0.0556, Val Acc=0.9444\n",
      "Round 370: Weighted Train Err=0.3578, Train Acc=0.9682, Val Err=0.0556, Val Acc=0.9444\n",
      "Round 371: Weighted Train Err=0.4880, Train Acc=0.9682, Val Err=0.0630, Val Acc=0.9370\n",
      "Round 372: Weighted Train Err=0.2685, Train Acc=0.9674, Val Err=0.0556, Val Acc=0.9444\n",
      "Round 373: Weighted Train Err=0.3689, Train Acc=0.9682, Val Err=0.0630, Val Acc=0.9370\n",
      "Round 374: Weighted Train Err=0.5314, Train Acc=0.9682, Val Err=0.0630, Val Acc=0.9370\n",
      "Round 375: Weighted Train Err=0.5568, Train Acc=0.9690, Val Err=0.0630, Val Acc=0.9370\n",
      "Round 376: Weighted Train Err=0.7445, Train Acc=0.9690, Val Err=0.0630, Val Acc=0.9370\n",
      "Round 377: Weighted Train Err=0.8404, Train Acc=0.9690, Val Err=0.0630, Val Acc=0.9370\n",
      "Round 378: Weighted Train Err=0.8892, Train Acc=0.9690, Val Err=0.0630, Val Acc=0.9370\n",
      "Round 379: Weighted Train Err=0.1647, Train Acc=0.9690, Val Err=0.0630, Val Acc=0.9370\n",
      "Round 380: Weighted Train Err=0.3344, Train Acc=0.9690, Val Err=0.0556, Val Acc=0.9444\n",
      "Round 381: Weighted Train Err=0.4147, Train Acc=0.9682, Val Err=0.0593, Val Acc=0.9407\n",
      "Round 382: Weighted Train Err=0.4059, Train Acc=0.9690, Val Err=0.0593, Val Acc=0.9407\n",
      "Round 383: Weighted Train Err=0.2687, Train Acc=0.9698, Val Err=0.0593, Val Acc=0.9407\n",
      "Round 384: Weighted Train Err=0.4100, Train Acc=0.9706, Val Err=0.0593, Val Acc=0.9407\n",
      "Round 385: Weighted Train Err=0.4113, Train Acc=0.9706, Val Err=0.0630, Val Acc=0.9370\n",
      "Round 386: Weighted Train Err=0.3567, Train Acc=0.9698, Val Err=0.0630, Val Acc=0.9370\n",
      "Round 387: Weighted Train Err=0.7769, Train Acc=0.9698, Val Err=0.0630, Val Acc=0.9370\n",
      "Round 388: Weighted Train Err=0.4702, Train Acc=0.9698, Val Err=0.0630, Val Acc=0.9370\n",
      "Round 389: Weighted Train Err=0.3375, Train Acc=0.9698, Val Err=0.0593, Val Acc=0.9407\n",
      "Round 390: Weighted Train Err=0.7549, Train Acc=0.9698, Val Err=0.0593, Val Acc=0.9407\n",
      "Round 391: Weighted Train Err=0.8057, Train Acc=0.9698, Val Err=0.0593, Val Acc=0.9407\n",
      "Round 392: Weighted Train Err=0.3389, Train Acc=0.9698, Val Err=0.0593, Val Acc=0.9407\n",
      "Round 393: Weighted Train Err=0.5304, Train Acc=0.9698, Val Err=0.0593, Val Acc=0.9407\n",
      "Round 394: Weighted Train Err=0.7518, Train Acc=0.9698, Val Err=0.0593, Val Acc=0.9407\n",
      "Round 395: Weighted Train Err=0.5405, Train Acc=0.9690, Val Err=0.0593, Val Acc=0.9407\n",
      "Round 396: Weighted Train Err=0.5931, Train Acc=0.9690, Val Err=0.0593, Val Acc=0.9407\n",
      "Round 397: Weighted Train Err=0.4993, Train Acc=0.9682, Val Err=0.0593, Val Acc=0.9407\n",
      "Round 398: Weighted Train Err=0.2868, Train Acc=0.9682, Val Err=0.0593, Val Acc=0.9407\n",
      "Round 399: Weighted Train Err=0.3406, Train Acc=0.9682, Val Err=0.0593, Val Acc=0.9407\n",
      "Round 400: Weighted Train Err=0.6076, Train Acc=0.9682, Val Err=0.0556, Val Acc=0.9444\n",
      "Round 401: Weighted Train Err=0.4004, Train Acc=0.9674, Val Err=0.0630, Val Acc=0.9370\n",
      "Round 402: Weighted Train Err=0.2603, Train Acc=0.9674, Val Err=0.0593, Val Acc=0.9407\n",
      "Round 403: Weighted Train Err=0.2121, Train Acc=0.9682, Val Err=0.0593, Val Acc=0.9407\n",
      "Round 404: Weighted Train Err=0.5047, Train Acc=0.9682, Val Err=0.0593, Val Acc=0.9407\n",
      "Round 405: Weighted Train Err=0.4113, Train Acc=0.9674, Val Err=0.0593, Val Acc=0.9407\n",
      "Round 406: Weighted Train Err=0.3059, Train Acc=0.9682, Val Err=0.0593, Val Acc=0.9407\n",
      "Round 407: Weighted Train Err=0.4720, Train Acc=0.9682, Val Err=0.0593, Val Acc=0.9407\n",
      "Round 408: Weighted Train Err=0.4814, Train Acc=0.9690, Val Err=0.0593, Val Acc=0.9407\n",
      "Round 409: Weighted Train Err=0.4557, Train Acc=0.9690, Val Err=0.0593, Val Acc=0.9407\n",
      "Round 410: Weighted Train Err=0.2812, Train Acc=0.9698, Val Err=0.0630, Val Acc=0.9370\n",
      "Round 411: Weighted Train Err=0.3582, Train Acc=0.9690, Val Err=0.0593, Val Acc=0.9407\n",
      "Round 412: Weighted Train Err=0.3352, Train Acc=0.9682, Val Err=0.0556, Val Acc=0.9444\n",
      "Round 413: Weighted Train Err=0.2602, Train Acc=0.9690, Val Err=0.0556, Val Acc=0.9444\n",
      "Round 414: Weighted Train Err=0.2607, Train Acc=0.9682, Val Err=0.0556, Val Acc=0.9444\n",
      "Round 415: Weighted Train Err=0.4219, Train Acc=0.9682, Val Err=0.0593, Val Acc=0.9407\n",
      "Round 416: Weighted Train Err=0.3990, Train Acc=0.9682, Val Err=0.0556, Val Acc=0.9444\n",
      "Round 417: Weighted Train Err=0.4993, Train Acc=0.9682, Val Err=0.0556, Val Acc=0.9444\n",
      "Round 418: Weighted Train Err=0.3022, Train Acc=0.9682, Val Err=0.0519, Val Acc=0.9481\n",
      "Round 419: Weighted Train Err=0.4011, Train Acc=0.9682, Val Err=0.0519, Val Acc=0.9481\n",
      "Round 420: Weighted Train Err=0.4149, Train Acc=0.9682, Val Err=0.0519, Val Acc=0.9481\n",
      "Round 421: Weighted Train Err=0.3250, Train Acc=0.9690, Val Err=0.0593, Val Acc=0.9407\n",
      "Round 422: Weighted Train Err=0.2235, Train Acc=0.9690, Val Err=0.0556, Val Acc=0.9444\n",
      "Round 423: Weighted Train Err=0.2977, Train Acc=0.9698, Val Err=0.0556, Val Acc=0.9444\n",
      "Round 424: Weighted Train Err=0.2390, Train Acc=0.9674, Val Err=0.0556, Val Acc=0.9444\n",
      "Round 425: Weighted Train Err=0.3397, Train Acc=0.9674, Val Err=0.0630, Val Acc=0.9370\n",
      "Round 426: Weighted Train Err=0.4518, Train Acc=0.9666, Val Err=0.0556, Val Acc=0.9444\n",
      "Round 427: Weighted Train Err=0.2817, Train Acc=0.9674, Val Err=0.0593, Val Acc=0.9407\n",
      "Round 428: Weighted Train Err=0.3205, Train Acc=0.9666, Val Err=0.0556, Val Acc=0.9444\n",
      "Round 429: Weighted Train Err=0.3356, Train Acc=0.9674, Val Err=0.0556, Val Acc=0.9444\n",
      "Round 430: Weighted Train Err=0.3252, Train Acc=0.9674, Val Err=0.0556, Val Acc=0.9444\n",
      "Round 431: Weighted Train Err=0.2963, Train Acc=0.9674, Val Err=0.0630, Val Acc=0.9370\n",
      "Round 432: Weighted Train Err=0.8479, Train Acc=0.9674, Val Err=0.0630, Val Acc=0.9370\n",
      "Round 433: Weighted Train Err=0.2172, Train Acc=0.9682, Val Err=0.0593, Val Acc=0.9407\n",
      "Round 434: Weighted Train Err=0.3124, Train Acc=0.9682, Val Err=0.0593, Val Acc=0.9407\n",
      "Round 435: Weighted Train Err=0.4733, Train Acc=0.9690, Val Err=0.0630, Val Acc=0.9370\n",
      "Round 436: Weighted Train Err=0.4810, Train Acc=0.9682, Val Err=0.0667, Val Acc=0.9333\n",
      "Round 437: Weighted Train Err=0.3086, Train Acc=0.9690, Val Err=0.0593, Val Acc=0.9407\n",
      "Round 438: Weighted Train Err=0.4621, Train Acc=0.9690, Val Err=0.0593, Val Acc=0.9407\n",
      "Round 439: Weighted Train Err=0.3820, Train Acc=0.9690, Val Err=0.0593, Val Acc=0.9407\n",
      "Round 440: Weighted Train Err=0.5418, Train Acc=0.9674, Val Err=0.0630, Val Acc=0.9370\n",
      "Round 441: Weighted Train Err=0.4627, Train Acc=0.9682, Val Err=0.0593, Val Acc=0.9407\n",
      "Round 442: Weighted Train Err=0.4764, Train Acc=0.9690, Val Err=0.0593, Val Acc=0.9407\n",
      "Round 443: Weighted Train Err=0.6238, Train Acc=0.9674, Val Err=0.0593, Val Acc=0.9407\n",
      "Round 444: Weighted Train Err=0.3216, Train Acc=0.9674, Val Err=0.0630, Val Acc=0.9370\n",
      "Round 445: Weighted Train Err=0.3988, Train Acc=0.9674, Val Err=0.0593, Val Acc=0.9407\n",
      "Round 446: Weighted Train Err=0.3251, Train Acc=0.9682, Val Err=0.0630, Val Acc=0.9370\n",
      "Round 447: Weighted Train Err=0.6991, Train Acc=0.9682, Val Err=0.0630, Val Acc=0.9370\n",
      "Round 448: Weighted Train Err=0.2825, Train Acc=0.9690, Val Err=0.0667, Val Acc=0.9333\n",
      "Round 449: Weighted Train Err=0.6165, Train Acc=0.9690, Val Err=0.0593, Val Acc=0.9407\n",
      "Round 450: Weighted Train Err=0.4141, Train Acc=0.9706, Val Err=0.0667, Val Acc=0.9333\n",
      "Round 451: Weighted Train Err=0.4344, Train Acc=0.9690, Val Err=0.0667, Val Acc=0.9333\n",
      "Round 452: Weighted Train Err=0.3465, Train Acc=0.9690, Val Err=0.0667, Val Acc=0.9333\n",
      "Round 453: Weighted Train Err=0.2383, Train Acc=0.9690, Val Err=0.0667, Val Acc=0.9333\n",
      "Round 454: Weighted Train Err=0.2971, Train Acc=0.9690, Val Err=0.0667, Val Acc=0.9333\n",
      "Round 455: Weighted Train Err=0.5533, Train Acc=0.9674, Val Err=0.0667, Val Acc=0.9333\n",
      "Round 456: Weighted Train Err=0.4821, Train Acc=0.9674, Val Err=0.0667, Val Acc=0.9333\n",
      "Round 457: Weighted Train Err=0.3922, Train Acc=0.9682, Val Err=0.0667, Val Acc=0.9333\n",
      "Round 458: Weighted Train Err=0.4510, Train Acc=0.9706, Val Err=0.0667, Val Acc=0.9333\n",
      "Round 459: Weighted Train Err=0.3471, Train Acc=0.9706, Val Err=0.0667, Val Acc=0.9333\n",
      "Round 460: Weighted Train Err=0.2742, Train Acc=0.9698, Val Err=0.0667, Val Acc=0.9333\n",
      "Round 461: Weighted Train Err=0.3464, Train Acc=0.9706, Val Err=0.0667, Val Acc=0.9333\n",
      "Round 462: Weighted Train Err=0.3955, Train Acc=0.9714, Val Err=0.0667, Val Acc=0.9333\n",
      "Round 463: Weighted Train Err=0.3404, Train Acc=0.9698, Val Err=0.0667, Val Acc=0.9333\n",
      "Round 464: Weighted Train Err=0.5067, Train Acc=0.9722, Val Err=0.0667, Val Acc=0.9333\n",
      "Round 465: Weighted Train Err=0.2464, Train Acc=0.9714, Val Err=0.0667, Val Acc=0.9333\n",
      "Round 466: Weighted Train Err=0.3015, Train Acc=0.9714, Val Err=0.0667, Val Acc=0.9333\n",
      "Round 467: Weighted Train Err=0.3181, Train Acc=0.9722, Val Err=0.0667, Val Acc=0.9333\n",
      "Round 468: Weighted Train Err=0.3378, Train Acc=0.9714, Val Err=0.0667, Val Acc=0.9333\n",
      "Round 469: Weighted Train Err=0.6110, Train Acc=0.9714, Val Err=0.0667, Val Acc=0.9333\n",
      "Round 470: Weighted Train Err=0.4623, Train Acc=0.9714, Val Err=0.0667, Val Acc=0.9333\n",
      "Round 471: Weighted Train Err=0.3905, Train Acc=0.9730, Val Err=0.0667, Val Acc=0.9333\n",
      "Round 472: Weighted Train Err=0.3774, Train Acc=0.9722, Val Err=0.0667, Val Acc=0.9333\n",
      "Round 473: Weighted Train Err=0.3281, Train Acc=0.9722, Val Err=0.0667, Val Acc=0.9333\n",
      "Round 474: Weighted Train Err=0.3816, Train Acc=0.9722, Val Err=0.0630, Val Acc=0.9370\n",
      "Round 475: Weighted Train Err=0.2264, Train Acc=0.9730, Val Err=0.0667, Val Acc=0.9333\n",
      "Round 476: Weighted Train Err=0.3970, Train Acc=0.9730, Val Err=0.0667, Val Acc=0.9333\n",
      "Round 477: Weighted Train Err=0.2462, Train Acc=0.9714, Val Err=0.0667, Val Acc=0.9333\n",
      "Round 478: Weighted Train Err=0.5272, Train Acc=0.9722, Val Err=0.0667, Val Acc=0.9333\n",
      "Round 479: Weighted Train Err=0.5754, Train Acc=0.9714, Val Err=0.0667, Val Acc=0.9333\n",
      "Round 480: Weighted Train Err=0.6348, Train Acc=0.9722, Val Err=0.0667, Val Acc=0.9333\n",
      "Round 481: Weighted Train Err=0.3176, Train Acc=0.9706, Val Err=0.0667, Val Acc=0.9333\n",
      "Round 482: Weighted Train Err=0.2227, Train Acc=0.9690, Val Err=0.0667, Val Acc=0.9333\n",
      "Round 483: Weighted Train Err=0.4059, Train Acc=0.9714, Val Err=0.0667, Val Acc=0.9333\n",
      "Round 484: Weighted Train Err=0.6390, Train Acc=0.9690, Val Err=0.0667, Val Acc=0.9333\n",
      "Round 485: Weighted Train Err=0.3086, Train Acc=0.9682, Val Err=0.0667, Val Acc=0.9333\n",
      "Round 486: Weighted Train Err=0.3689, Train Acc=0.9698, Val Err=0.0630, Val Acc=0.9370\n",
      "Round 487: Weighted Train Err=0.5447, Train Acc=0.9706, Val Err=0.0630, Val Acc=0.9370\n",
      "Round 488: Weighted Train Err=0.3314, Train Acc=0.9690, Val Err=0.0630, Val Acc=0.9370\n",
      "Round 489: Weighted Train Err=0.5089, Train Acc=0.9698, Val Err=0.0630, Val Acc=0.9370\n",
      "Round 490: Weighted Train Err=0.4087, Train Acc=0.9674, Val Err=0.0630, Val Acc=0.9370\n",
      "Round 491: Weighted Train Err=0.3971, Train Acc=0.9674, Val Err=0.0630, Val Acc=0.9370\n",
      "Round 492: Weighted Train Err=0.4241, Train Acc=0.9698, Val Err=0.0630, Val Acc=0.9370\n",
      "Round 493: Weighted Train Err=0.4506, Train Acc=0.9690, Val Err=0.0630, Val Acc=0.9370\n",
      "Round 494: Weighted Train Err=0.3644, Train Acc=0.9682, Val Err=0.0593, Val Acc=0.9407\n",
      "Round 495: Weighted Train Err=0.3356, Train Acc=0.9690, Val Err=0.0593, Val Acc=0.9407\n",
      "Round 496: Weighted Train Err=0.6528, Train Acc=0.9690, Val Err=0.0593, Val Acc=0.9407\n",
      "Round 497: Weighted Train Err=0.3708, Train Acc=0.9690, Val Err=0.0593, Val Acc=0.9407\n",
      "Round 498: Weighted Train Err=0.3243, Train Acc=0.9690, Val Err=0.0593, Val Acc=0.9407\n",
      "Round 499: Weighted Train Err=0.2058, Train Acc=0.9698, Val Err=0.0593, Val Acc=0.9407\n",
      "Round 500: Weighted Train Err=0.2932, Train Acc=0.9698, Val Err=0.0593, Val Acc=0.9407\n"
     ]
    }
   ],
   "source": [
    "model.fit(X_train, y_train,X_val,y_val)  \n"
   ]
  },
  {
   "cell_type": "markdown",
   "id": "1d78ea9f",
   "metadata": {},
   "source": [
    "Plotting  Metrics\n"
   ]
  },
  {
   "cell_type": "code",
   "execution_count": 8,
   "id": "72a3f53b",
   "metadata": {
    "executionInfo": {}
   },
   "outputs": [
    {
     "data": {
      "image/png": "[encoded data removed]",
      "text/plain": [
       "<Figure size 1200x500 with 1 Axes>"
      ]
     },
     "metadata": {},
     "output_type": "display_data"
    }
   ],
   "source": [
    "model.plot_metrics()\n"
   ]
  },
  {
   "cell_type": "code",
   "execution_count": 9,
   "id": "4b9bec08",
   "metadata": {},
   "outputs": [
    {
     "data": {
      "text/plain": [
       "357"
      ]
     },
     "execution_count": 9,
     "metadata": {},
     "output_type": "execute_result"
    }
   ],
   "source": [
    "best_stage=np.argmax(model.validation_accuracies)\n",
    "best_stage"
   ]
  },
  {
   "cell_type": "markdown",
   "id": "e20b6828",
   "metadata": {},
   "source": [
    "## 4. Evaluate on the Test Set\n",
    "We'll scale the test data using the same scaler (fit on train_val)."
   ]
  },
  {
   "cell_type": "code",
   "execution_count": 10,
   "id": "701d2255",
   "metadata": {
    "executionInfo": {}
   },
   "outputs": [
    {
     "name": "stdout",
     "output_type": "stream",
     "text": [
      "Test Accuracy: 92.963%\n",
      "Test Micro-F1 Score: 0.9296\n",
      "Test Macro-F1 Score: 0.9299\n"
     ]
    }
   ],
   "source": [
    "\n",
    "y_test_pred = model.predict(X_test,best_stage)\n",
    "\n",
    "test_acc = accuracy_score(y_test, y_test_pred)\n",
    "test_f1_micro = f1_score(y_test, y_test_pred, average='micro')\n",
    "test_f1_macro = f1_score(y_test, y_test_pred, average='macro')\n",
    "\n",
    "print(f\"Test Accuracy: {test_acc * 100:.3f}%\")\n",
    "print(f\"Test Micro-F1 Score: {test_f1_micro:.4f}\")\n",
    "print(f\"Test Macro-F1 Score: {test_f1_macro:.4f}\")"
   ]
  },
  {
   "cell_type": "code",
   "execution_count": 11,
   "id": "ba7b9dba",
   "metadata": {},
   "outputs": [
    {
     "data": {
      "text/plain": [
       "0.9296296296296296"
      ]
     },
     "execution_count": 11,
     "metadata": {},
     "output_type": "execute_result"
    }
   ],
   "source": [
    "test_acc"
   ]
  },
  {
   "cell_type": "markdown",
   "id": "c50d8b4a",
   "metadata": {},
   "source": [
    "### Confusion Matrix\n",
    "This helps us see where the model confuses one digit with another."
   ]
  },
  {
   "cell_type": "code",
   "execution_count": 12,
   "id": "c74cddde",
   "metadata": {
    "executionInfo": {}
   },
   "outputs": [
    {
     "data": {
      "image/png": "[encoded data removed]",
      "text/plain": [
       "<Figure size 640x480 with 2 Axes>"
      ]
     },
     "metadata": {},
     "output_type": "display_data"
    }
   ],
   "source": [
    "cm = confusion_matrix(y_test, y_test_pred, labels=range(model.n_classes))\n",
    "disp = ConfusionMatrixDisplay(confusion_matrix=cm, display_labels=range(model.n_classes))\n",
    "\n",
    "disp.plot(cmap='Blues')\n",
    "\n",
    "plt.title(\"confusion Matrix on Test Set\")\n",
    "\n",
    "plt.show()"
   ]
  },
  {
   "cell_type": "markdown",
   "id": "e49359fa",
   "metadata": {},
   "source": [
    "## 5. Showing a Few Test Samples"
   ]
  },
  {
   "cell_type": "code",
   "execution_count": 13,
   "id": "4125a344",
   "metadata": {
    "executionInfo": {}
   },
   "outputs": [
    {
     "data": {
      "image/png": "[encoded data removed]",
      "text/plain": [
       "<Figure size 1000x600 with 10 Axes>"
      ]
     },
     "metadata": {},
     "output_type": "display_data"
    }
   ],
   "source": [
    "num_samples = 10\n",
    "random.seed(42)\n",
    "indices = random.sample(range(X_test.shape[0]), num_samples)\n",
    "X_sample = X_test[indices]\n",
    "y_sample_true = y_test[indices]\n",
    "y_sample_pred = y_test_pred[indices]\n",
    "\n",
    "image_shape = (8, 8)  # original shape for visualization\n",
    "\n",
    "max_per_row = 5\n",
    "num_rows = math.ceil(num_samples / max_per_row)\n",
    "fig, axes = plt.subplots(num_rows, max_per_row, figsize=(max_per_row * 2, num_rows * 3))\n",
    "axes = axes.flatten()\n",
    "\n",
    "for i in range(num_samples):\n",
    "    ax = axes[i]\n",
    "    img = X_sample[i].reshape(image_shape)\n",
    "    ax.imshow(img, cmap='gray')\n",
    "    ax.axis('off')\n",
    "    \n",
    "    correct = (y_sample_pred[i] == y_sample_true[i])\n",
    "    title_color = 'green' if correct else 'red'\n",
    "    ax.set_title(\n",
    "        f\"Pred: {y_sample_pred[i]}\\nTrue: {y_sample_true[i]}\",\n",
    "        color=title_color, fontsize=9\n",
    "    )\n",
    "\n",
    "plt.suptitle(\"Model Predictions vs. True Labels\", fontsize=16)\n",
    "plt.tight_layout(rect=[0, 0.03, 1, 0.95])\n",
    "plt.show()"
   ]
  },
  {
   "cell_type": "markdown",
   "id": "b1f209fb",
   "metadata": {},
   "source": [
    "# Summary of Modifications and Commentary\n",
    "\n",
    "1. **Classical Perceptron**:\n",
    "   - The core Perceptron update is: if a sample (x_i, y_i) is misclassified, then `w <- w + alpha * sample_weight[i] * x_i`.\n",
    "   - In a pure theoretical setting, we'd use a `while True` loop and stop when we see no errors. In practice, we limit epochs (`max_iter`) for real data that may not be separable.\n",
    "\n",
    "2. ** Perceptron**:\n",
    "   - Our code uses `n_classes=10` and a direct multi-class scheme inside `perceptron.py`.\n",
    "   - Each pass updates the relevant class weights if a sample is predicted incorrectly.\n",
    "\n",
    "3. **SAMME (AdaBoost)**:\n",
    "   - We wrap the Perceptron in an AdaBoost loop for multi-class problems.\n",
    "   - Each round, we train a new Perceptron on a reweighted sample, so it focuses on previously misclassified points more strongly.\n",
    "   - Then we compute a coefficient α^(m) based on weighted error, and update sample weights.\n",
    "\n",
    "4. **Train/Val/Test**:\n",
    "   - We split the dataset and scaled the features.\n",
    "   - We eventually test on the hold-out test set to see final performance.\n",
    "\n",
    "5. **Result**:\n",
    "   - We measure accuracy, F1 scores, and display a confusion matrix.\n",
    "   - We also look at sample predictions to see how well the model does visually.\n",
    "\n",
    "The above comments clarify how this code relates to the classical perceptron pseudocode **and** how we adapt it for multi-class Adaboost in a practical scenario."
   ]
  },
  {
   "cell_type": "markdown",
   "id": "2160b5a1",
   "metadata": {},
   "source": []
  }
 ],
 "metadata": {
  "colab": {
   "name": "experiment.ipynb",
   "provenance": []
  },
  "kernelspec": {
   "display_name": "Python 3",
   "language": "python",
   "name": "python3"
  },
  "language_info": {
   "codemirror_mode": {
    "name": "ipython",
    "version": 3
   },
   "file_extension": ".py",
   "mimetype": "text/x-python",
   "name": "python",
   "nbconvert_exporter": "python",
   "pygments_lexer": "ipython3",
   "version": "3.12.8"
  }
 },
 "nbformat": 4,
 "nbformat_minor": 5
}
